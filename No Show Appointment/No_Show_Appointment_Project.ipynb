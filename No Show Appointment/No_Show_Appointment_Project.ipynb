{
 "cells": [
  {
   "cell_type": "markdown",
   "id": "134f819b",
   "metadata": {},
   "source": [
    "# INTRODUCTION\n",
    "This data No_Show_database file consist of information of patients who present or absent on thier hospital appointment date. Looking the data carefully, you will see a column named No_show which consist of 0 value for patients that were absent with 0 value and 1 value for patients that present.\n",
    "In this project, we are to inveetigate what are the reasons why patients dont make themselves available on their appointment date\n",
    "This patients record is characterized by the following colums( PatiendID, AppointmentID,\n",
    "Gender,\tScheduledDay,\tAppointmentDay,\tAge,\tNeighbourhood,\tScholarship,\tHypertension,\tDiabetes, Alcoholism\tHandicap,\tSMS_received\t,\tNo_show ).\n",
    "#The idea of this project is to be able to determined why the factors or reasons patients refused to make themselves available on thier appointment date\n",
    "These are what we are going to be looking into to analyze our dataset.\n"
   ]
  },
  {
   "cell_type": "markdown",
   "id": "21c25156",
   "metadata": {},
   "source": [
    "# QUESTIONS\n",
    "\n",
    "#lets know ask ourselve question what are the reasons behind absentism of patients on thier appointment day\n",
    "\n",
    "####  QUESTION ONE\n",
    "What is the percentage of those available and those that are unavailable on their appointment date??\n",
    "\n",
    "#### QUESTION TWO\n",
    "Which of the gender makes themselves unavailable most??\n",
    "\n",
    "#### QUESTION THREE\n",
    "Does the age affect the unavailability of patients??\n",
    "\n",
    "#### QUESTION FOUR\n",
    "Which of the days patient are most likely to make themselves available\n",
    "\n",
    "The questions are widely open and \n",
    "\n",
    "we are goint to start our analysis now."
   ]
  },
  {
   "cell_type": "markdown",
   "id": "dc5466db",
   "metadata": {},
   "source": [
    "# Importing Libraries"
   ]
  },
  {
   "cell_type": "code",
   "execution_count": 1,
   "id": "44df918f",
   "metadata": {},
   "outputs": [],
   "source": [
    "#importing of libraries to be used in the for the analysis\n",
    "import pandas as pd\n",
    "import datetime\n",
    "import seaborn as sns\n",
    "import numpy as np\n",
    "import numpy as np\n",
    "from matplotlib import pyplot as plt\n",
    "%matplotlib inline\n"
   ]
  },
  {
   "cell_type": "code",
   "execution_count": 3,
   "id": "2f67e829",
   "metadata": {},
   "outputs": [
    {
     "data": {
      "text/html": [
       "<div>\n",
       "<style scoped>\n",
       "    .dataframe tbody tr th:only-of-type {\n",
       "        vertical-align: middle;\n",
       "    }\n",
       "\n",
       "    .dataframe tbody tr th {\n",
       "        vertical-align: top;\n",
       "    }\n",
       "\n",
       "    .dataframe thead th {\n",
       "        text-align: right;\n",
       "    }\n",
       "</style>\n",
       "<table border=\"1\" class=\"dataframe\">\n",
       "  <thead>\n",
       "    <tr style=\"text-align: right;\">\n",
       "      <th></th>\n",
       "      <th>PatientId</th>\n",
       "      <th>AppointmentID</th>\n",
       "      <th>Gender</th>\n",
       "      <th>ScheduledDay</th>\n",
       "      <th>AppointmentDay</th>\n",
       "      <th>Age</th>\n",
       "      <th>Neighbourhood</th>\n",
       "      <th>Scholarship</th>\n",
       "      <th>Hipertension</th>\n",
       "      <th>Diabetes</th>\n",
       "      <th>Alcoholism</th>\n",
       "      <th>Handcap</th>\n",
       "      <th>SMS_received</th>\n",
       "      <th>No-show</th>\n",
       "    </tr>\n",
       "  </thead>\n",
       "  <tbody>\n",
       "    <tr>\n",
       "      <th>0</th>\n",
       "      <td>2.987250e+13</td>\n",
       "      <td>5642903</td>\n",
       "      <td>F</td>\n",
       "      <td>2016-04-29T18:38:08Z</td>\n",
       "      <td>2016-04-29T00:00:00Z</td>\n",
       "      <td>62</td>\n",
       "      <td>JARDIM DA PENHA</td>\n",
       "      <td>0</td>\n",
       "      <td>1</td>\n",
       "      <td>0</td>\n",
       "      <td>0</td>\n",
       "      <td>0</td>\n",
       "      <td>0</td>\n",
       "      <td>No</td>\n",
       "    </tr>\n",
       "    <tr>\n",
       "      <th>1</th>\n",
       "      <td>5.589978e+14</td>\n",
       "      <td>5642503</td>\n",
       "      <td>M</td>\n",
       "      <td>2016-04-29T16:08:27Z</td>\n",
       "      <td>2016-04-29T00:00:00Z</td>\n",
       "      <td>56</td>\n",
       "      <td>JARDIM DA PENHA</td>\n",
       "      <td>0</td>\n",
       "      <td>0</td>\n",
       "      <td>0</td>\n",
       "      <td>0</td>\n",
       "      <td>0</td>\n",
       "      <td>0</td>\n",
       "      <td>No</td>\n",
       "    </tr>\n",
       "    <tr>\n",
       "      <th>2</th>\n",
       "      <td>4.262962e+12</td>\n",
       "      <td>5642549</td>\n",
       "      <td>F</td>\n",
       "      <td>2016-04-29T16:19:04Z</td>\n",
       "      <td>2016-04-29T00:00:00Z</td>\n",
       "      <td>62</td>\n",
       "      <td>MATA DA PRAIA</td>\n",
       "      <td>0</td>\n",
       "      <td>0</td>\n",
       "      <td>0</td>\n",
       "      <td>0</td>\n",
       "      <td>0</td>\n",
       "      <td>0</td>\n",
       "      <td>No</td>\n",
       "    </tr>\n",
       "  </tbody>\n",
       "</table>\n",
       "</div>"
      ],
      "text/plain": [
       "      PatientId  AppointmentID Gender          ScheduledDay  \\\n",
       "0  2.987250e+13        5642903      F  2016-04-29T18:38:08Z   \n",
       "1  5.589978e+14        5642503      M  2016-04-29T16:08:27Z   \n",
       "2  4.262962e+12        5642549      F  2016-04-29T16:19:04Z   \n",
       "\n",
       "         AppointmentDay  Age    Neighbourhood  Scholarship  Hipertension  \\\n",
       "0  2016-04-29T00:00:00Z   62  JARDIM DA PENHA            0             1   \n",
       "1  2016-04-29T00:00:00Z   56  JARDIM DA PENHA            0             0   \n",
       "2  2016-04-29T00:00:00Z   62    MATA DA PRAIA            0             0   \n",
       "\n",
       "   Diabetes  Alcoholism  Handcap  SMS_received No-show  \n",
       "0         0           0        0             0      No  \n",
       "1         0           0        0             0      No  \n",
       "2         0           0        0             0      No  "
      ]
     },
     "execution_count": 3,
     "metadata": {},
     "output_type": "execute_result"
    }
   ],
   "source": [
    "#reading csv file from the folder\n",
    "df = pd.read_csv('/Users/user/Desktop/DATA ANALYST/Database_No_show_appointments/noshowappointments-kagglev2-may-2016 - Copy.csv')\n",
    "#lets have a quick look of the dataset\n",
    "df.head(3)"
   ]
  },
  {
   "cell_type": "markdown",
   "id": "dcd55801",
   "metadata": {},
   "source": [
    "# DATA WRANGLING\n",
    "This is the stage where we do a total clean up for the dataset in order to make the analysis easy and with realistic conclusion\n",
    "In this project, different cleaning was done such as conversion of data type, renaming of columns, addition of columns, removal of colums.\n",
    "Kindly go through codes and markdowm carefully and see how the data was wrangled."
   ]
  },
  {
   "cell_type": "code",
   "execution_count": 4,
   "id": "531433d7",
   "metadata": {},
   "outputs": [
    {
     "name": "stdout",
     "output_type": "stream",
     "text": [
      "<class 'pandas.core.frame.DataFrame'>\n",
      "RangeIndex: 110527 entries, 0 to 110526\n",
      "Data columns (total 14 columns):\n",
      " #   Column          Non-Null Count   Dtype  \n",
      "---  ------          --------------   -----  \n",
      " 0   PatientId       110527 non-null  float64\n",
      " 1   AppointmentID   110527 non-null  int64  \n",
      " 2   Gender          110527 non-null  object \n",
      " 3   ScheduledDay    110527 non-null  object \n",
      " 4   AppointmentDay  110527 non-null  object \n",
      " 5   Age             110527 non-null  int64  \n",
      " 6   Neighbourhood   110527 non-null  object \n",
      " 7   Scholarship     110527 non-null  int64  \n",
      " 8   Hipertension    110527 non-null  int64  \n",
      " 9   Diabetes        110527 non-null  int64  \n",
      " 10  Alcoholism      110527 non-null  int64  \n",
      " 11  Handcap         110527 non-null  int64  \n",
      " 12  SMS_received    110527 non-null  int64  \n",
      " 13  No-show         110527 non-null  object \n",
      "dtypes: float64(1), int64(8), object(5)\n",
      "memory usage: 11.8+ MB\n"
     ]
    }
   ],
   "source": [
    "#lets get the full details of our dataset\n",
    "df.info()\n",
    "\n",
    "#this actually shows us that there is no missing values, so their is no need to check"
   ]
  },
  {
   "cell_type": "markdown",
   "id": "2acc198a",
   "metadata": {},
   "source": [
    "#As you can see, our dataset consist of 14 columns, 110527 rows with three different data types(float, String and int)"
   ]
  },
  {
   "cell_type": "code",
   "execution_count": 5,
   "id": "b49f28b4",
   "metadata": {},
   "outputs": [],
   "source": [
    "#since we have AppointmentDay & ScheduleDay to be date and they are in string format, you need to convert them to date format\n",
    "df['ScheduledDay'] = pd.to_datetime(df['ScheduledDay'], format = '')\n",
    "df['AppointmentDay'] = pd.to_datetime(df['AppointmentDay'], format = '')"
   ]
  },
  {
   "cell_type": "code",
   "execution_count": 6,
   "id": "bf275ea4",
   "metadata": {},
   "outputs": [
    {
     "data": {
      "text/plain": [
       "False    110527\n",
       "dtype: int64"
      ]
     },
     "execution_count": 6,
     "metadata": {},
     "output_type": "execute_result"
    }
   ],
   "source": [
    "#we need to check if there is any duplicate in the dataset\n",
    "df.duplicated().value_counts()\n"
   ]
  },
  {
   "cell_type": "code",
   "execution_count": 32,
   "id": "4e5d1e4d",
   "metadata": {},
   "outputs": [],
   "source": [
    "#To check and swap if Appointment day comes before schedule date\n",
    "df['AppointmentDay'] = np.where((df['AppointmentDay'] - df['ScheduledDay']).dt.days<0,df['ScheduledDay'], df['AppointmentDay'] )"
   ]
  },
  {
   "cell_type": "code",
   "execution_count": null,
   "id": "ec8ec043",
   "metadata": {},
   "outputs": [],
   "source": [
    "#Lets remove PatientID and AppointmentID as they dont have influence in our analysis\n",
    "df.drop(['PatientId', 'AppointmentID'], axis = 1, inplace = True)"
   ]
  },
  {
   "cell_type": "code",
   "execution_count": 34,
   "id": "937fcf7b",
   "metadata": {},
   "outputs": [
    {
     "data": {
      "text/html": [
       "<div>\n",
       "<style scoped>\n",
       "    .dataframe tbody tr th:only-of-type {\n",
       "        vertical-align: middle;\n",
       "    }\n",
       "\n",
       "    .dataframe tbody tr th {\n",
       "        vertical-align: top;\n",
       "    }\n",
       "\n",
       "    .dataframe thead th {\n",
       "        text-align: right;\n",
       "    }\n",
       "</style>\n",
       "<table border=\"1\" class=\"dataframe\">\n",
       "  <thead>\n",
       "    <tr style=\"text-align: right;\">\n",
       "      <th></th>\n",
       "      <th>Gender</th>\n",
       "      <th>ScheduledDay</th>\n",
       "      <th>AppointmentDay</th>\n",
       "      <th>Age</th>\n",
       "      <th>Neighbourhood</th>\n",
       "      <th>Scholarship</th>\n",
       "      <th>Hypertension</th>\n",
       "      <th>Diabetes</th>\n",
       "      <th>Alcoholism</th>\n",
       "      <th>Handicap</th>\n",
       "      <th>SMS_received</th>\n",
       "      <th>Availability</th>\n",
       "      <th>waiting time days</th>\n",
       "      <th>weekDay</th>\n",
       "      <th>Month</th>\n",
       "      <th>Hour</th>\n",
       "    </tr>\n",
       "  </thead>\n",
       "  <tbody>\n",
       "    <tr>\n",
       "      <th>0</th>\n",
       "      <td>F</td>\n",
       "      <td>2016-04-29 18:38:08+00:00</td>\n",
       "      <td>2016-04-29 18:38:08+00:00</td>\n",
       "      <td>62</td>\n",
       "      <td>JARDIM DA PENHA</td>\n",
       "      <td>0</td>\n",
       "      <td>1</td>\n",
       "      <td>0</td>\n",
       "      <td>0</td>\n",
       "      <td>0</td>\n",
       "      <td>0</td>\n",
       "      <td>Unavailable</td>\n",
       "      <td>-1</td>\n",
       "      <td>Friday</td>\n",
       "      <td>April</td>\n",
       "      <td>18</td>\n",
       "    </tr>\n",
       "    <tr>\n",
       "      <th>1</th>\n",
       "      <td>M</td>\n",
       "      <td>2016-04-29 16:08:27+00:00</td>\n",
       "      <td>2016-04-29 16:08:27+00:00</td>\n",
       "      <td>56</td>\n",
       "      <td>JARDIM DA PENHA</td>\n",
       "      <td>0</td>\n",
       "      <td>0</td>\n",
       "      <td>0</td>\n",
       "      <td>0</td>\n",
       "      <td>0</td>\n",
       "      <td>0</td>\n",
       "      <td>Unavailable</td>\n",
       "      <td>-1</td>\n",
       "      <td>Friday</td>\n",
       "      <td>April</td>\n",
       "      <td>16</td>\n",
       "    </tr>\n",
       "  </tbody>\n",
       "</table>\n",
       "</div>"
      ],
      "text/plain": [
       "  Gender              ScheduledDay            AppointmentDay  Age  \\\n",
       "0      F 2016-04-29 18:38:08+00:00 2016-04-29 18:38:08+00:00   62   \n",
       "1      M 2016-04-29 16:08:27+00:00 2016-04-29 16:08:27+00:00   56   \n",
       "\n",
       "     Neighbourhood  Scholarship  Hypertension  Diabetes  Alcoholism  Handicap  \\\n",
       "0  JARDIM DA PENHA            0             1         0           0         0   \n",
       "1  JARDIM DA PENHA            0             0         0           0         0   \n",
       "\n",
       "   SMS_received Availability  waiting time days weekDay  Month  Hour  \n",
       "0             0  Unavailable                 -1  Friday  April    18  \n",
       "1             0  Unavailable                 -1  Friday  April    16  "
      ]
     },
     "execution_count": 34,
     "metadata": {},
     "output_type": "execute_result"
    }
   ],
   "source": [
    "#lets preview our dataset again\n",
    "df.head(2)"
   ]
  },
  {
   "cell_type": "code",
   "execution_count": 9,
   "id": "41c3d6c0",
   "metadata": {},
   "outputs": [
    {
     "data": {
      "text/html": [
       "<div>\n",
       "<style scoped>\n",
       "    .dataframe tbody tr th:only-of-type {\n",
       "        vertical-align: middle;\n",
       "    }\n",
       "\n",
       "    .dataframe tbody tr th {\n",
       "        vertical-align: top;\n",
       "    }\n",
       "\n",
       "    .dataframe thead th {\n",
       "        text-align: right;\n",
       "    }\n",
       "</style>\n",
       "<table border=\"1\" class=\"dataframe\">\n",
       "  <thead>\n",
       "    <tr style=\"text-align: right;\">\n",
       "      <th></th>\n",
       "      <th>Gender</th>\n",
       "      <th>ScheduledDay</th>\n",
       "      <th>AppointmentDay</th>\n",
       "      <th>Age</th>\n",
       "      <th>Neighbourhood</th>\n",
       "      <th>Scholarship</th>\n",
       "      <th>Hipertension</th>\n",
       "      <th>Diabetes</th>\n",
       "      <th>Alcoholism</th>\n",
       "      <th>Handcap</th>\n",
       "      <th>SMS_received</th>\n",
       "      <th>Availability</th>\n",
       "    </tr>\n",
       "  </thead>\n",
       "  <tbody>\n",
       "    <tr>\n",
       "      <th>0</th>\n",
       "      <td>F</td>\n",
       "      <td>2016-04-29 18:38:08+00:00</td>\n",
       "      <td>2016-04-29 00:00:00+00:00</td>\n",
       "      <td>62</td>\n",
       "      <td>JARDIM DA PENHA</td>\n",
       "      <td>0</td>\n",
       "      <td>1</td>\n",
       "      <td>0</td>\n",
       "      <td>0</td>\n",
       "      <td>0</td>\n",
       "      <td>0</td>\n",
       "      <td>Unavailable</td>\n",
       "    </tr>\n",
       "    <tr>\n",
       "      <th>1</th>\n",
       "      <td>M</td>\n",
       "      <td>2016-04-29 16:08:27+00:00</td>\n",
       "      <td>2016-04-29 00:00:00+00:00</td>\n",
       "      <td>56</td>\n",
       "      <td>JARDIM DA PENHA</td>\n",
       "      <td>0</td>\n",
       "      <td>0</td>\n",
       "      <td>0</td>\n",
       "      <td>0</td>\n",
       "      <td>0</td>\n",
       "      <td>0</td>\n",
       "      <td>Unavailable</td>\n",
       "    </tr>\n",
       "  </tbody>\n",
       "</table>\n",
       "</div>"
      ],
      "text/plain": [
       "  Gender              ScheduledDay            AppointmentDay  Age  \\\n",
       "0      F 2016-04-29 18:38:08+00:00 2016-04-29 00:00:00+00:00   62   \n",
       "1      M 2016-04-29 16:08:27+00:00 2016-04-29 00:00:00+00:00   56   \n",
       "\n",
       "     Neighbourhood  Scholarship  Hipertension  Diabetes  Alcoholism  Handcap  \\\n",
       "0  JARDIM DA PENHA            0             1         0           0        0   \n",
       "1  JARDIM DA PENHA            0             0         0           0        0   \n",
       "\n",
       "   SMS_received Availability  \n",
       "0             0  Unavailable  \n",
       "1             0  Unavailable  "
      ]
     },
     "execution_count": 9,
     "metadata": {},
     "output_type": "execute_result"
    }
   ],
   "source": [
    "#i would like to change the name of the column No_show to Availabilty and change the value to of No to 'Unavailable' and Yes to 'Available'\n",
    "df['Availability'] = df['No-show'].apply(lambda x: 'Available' if x == 'Yes' else 'Unavailable')\n",
    "df = df.drop('No-show', 1)\n",
    "df.head(2)"
   ]
  },
  {
   "cell_type": "code",
   "execution_count": 35,
   "id": "c1ba9320",
   "metadata": {},
   "outputs": [
    {
     "data": {
      "text/html": [
       "<div>\n",
       "<style scoped>\n",
       "    .dataframe tbody tr th:only-of-type {\n",
       "        vertical-align: middle;\n",
       "    }\n",
       "\n",
       "    .dataframe tbody tr th {\n",
       "        vertical-align: top;\n",
       "    }\n",
       "\n",
       "    .dataframe thead th {\n",
       "        text-align: right;\n",
       "    }\n",
       "</style>\n",
       "<table border=\"1\" class=\"dataframe\">\n",
       "  <thead>\n",
       "    <tr style=\"text-align: right;\">\n",
       "      <th></th>\n",
       "      <th>Gender</th>\n",
       "      <th>ScheduledDay</th>\n",
       "      <th>AppointmentDay</th>\n",
       "      <th>Age</th>\n",
       "      <th>Neighbourhood</th>\n",
       "      <th>Scholarship</th>\n",
       "      <th>Hypertension</th>\n",
       "      <th>Diabetes</th>\n",
       "      <th>Alcoholism</th>\n",
       "      <th>Handicap</th>\n",
       "      <th>SMS_received</th>\n",
       "      <th>Availability</th>\n",
       "      <th>waiting time days</th>\n",
       "      <th>weekDay</th>\n",
       "      <th>Month</th>\n",
       "      <th>Hour</th>\n",
       "    </tr>\n",
       "  </thead>\n",
       "  <tbody>\n",
       "    <tr>\n",
       "      <th>0</th>\n",
       "      <td>F</td>\n",
       "      <td>2016-04-29 18:38:08+00:00</td>\n",
       "      <td>2016-04-29 18:38:08+00:00</td>\n",
       "      <td>62</td>\n",
       "      <td>JARDIM DA PENHA</td>\n",
       "      <td>0</td>\n",
       "      <td>1</td>\n",
       "      <td>0</td>\n",
       "      <td>0</td>\n",
       "      <td>0</td>\n",
       "      <td>0</td>\n",
       "      <td>Unavailable</td>\n",
       "      <td>0</td>\n",
       "      <td>Friday</td>\n",
       "      <td>April</td>\n",
       "      <td>18</td>\n",
       "    </tr>\n",
       "    <tr>\n",
       "      <th>1</th>\n",
       "      <td>M</td>\n",
       "      <td>2016-04-29 16:08:27+00:00</td>\n",
       "      <td>2016-04-29 16:08:27+00:00</td>\n",
       "      <td>56</td>\n",
       "      <td>JARDIM DA PENHA</td>\n",
       "      <td>0</td>\n",
       "      <td>0</td>\n",
       "      <td>0</td>\n",
       "      <td>0</td>\n",
       "      <td>0</td>\n",
       "      <td>0</td>\n",
       "      <td>Unavailable</td>\n",
       "      <td>0</td>\n",
       "      <td>Friday</td>\n",
       "      <td>April</td>\n",
       "      <td>16</td>\n",
       "    </tr>\n",
       "  </tbody>\n",
       "</table>\n",
       "</div>"
      ],
      "text/plain": [
       "  Gender              ScheduledDay            AppointmentDay  Age  \\\n",
       "0      F 2016-04-29 18:38:08+00:00 2016-04-29 18:38:08+00:00   62   \n",
       "1      M 2016-04-29 16:08:27+00:00 2016-04-29 16:08:27+00:00   56   \n",
       "\n",
       "     Neighbourhood  Scholarship  Hypertension  Diabetes  Alcoholism  Handicap  \\\n",
       "0  JARDIM DA PENHA            0             1         0           0         0   \n",
       "1  JARDIM DA PENHA            0             0         0           0         0   \n",
       "\n",
       "   SMS_received Availability  waiting time days weekDay  Month  Hour  \n",
       "0             0  Unavailable                  0  Friday  April    18  \n",
       "1             0  Unavailable                  0  Friday  April    16  "
      ]
     },
     "execution_count": 35,
     "metadata": {},
     "output_type": "execute_result"
    }
   ],
   "source": [
    "#lets create a column 'Waiting time days'to get numbers of the patient will wait after the schedule date\n",
    "df['waiting time days'] = df['AppointmentDay'] - df['ScheduledDay']\n",
    "df['waiting time days'] = df['waiting time days'].dt.days\n",
    "df.head(2)"
   ]
  },
  {
   "cell_type": "code",
   "execution_count": 11,
   "id": "9b119f07",
   "metadata": {},
   "outputs": [
    {
     "data": {
      "text/html": [
       "<div>\n",
       "<style scoped>\n",
       "    .dataframe tbody tr th:only-of-type {\n",
       "        vertical-align: middle;\n",
       "    }\n",
       "\n",
       "    .dataframe tbody tr th {\n",
       "        vertical-align: top;\n",
       "    }\n",
       "\n",
       "    .dataframe thead th {\n",
       "        text-align: right;\n",
       "    }\n",
       "</style>\n",
       "<table border=\"1\" class=\"dataframe\">\n",
       "  <thead>\n",
       "    <tr style=\"text-align: right;\">\n",
       "      <th></th>\n",
       "      <th>Gender</th>\n",
       "      <th>ScheduledDay</th>\n",
       "      <th>AppointmentDay</th>\n",
       "      <th>Age</th>\n",
       "      <th>Neighbourhood</th>\n",
       "      <th>Scholarship</th>\n",
       "      <th>Hypertension</th>\n",
       "      <th>Diabetes</th>\n",
       "      <th>Alcoholism</th>\n",
       "      <th>Handicap</th>\n",
       "      <th>SMS_received</th>\n",
       "      <th>Availability</th>\n",
       "      <th>waiting time days</th>\n",
       "    </tr>\n",
       "  </thead>\n",
       "  <tbody>\n",
       "    <tr>\n",
       "      <th>0</th>\n",
       "      <td>F</td>\n",
       "      <td>2016-04-29 18:38:08+00:00</td>\n",
       "      <td>2016-04-29 00:00:00+00:00</td>\n",
       "      <td>62</td>\n",
       "      <td>JARDIM DA PENHA</td>\n",
       "      <td>0</td>\n",
       "      <td>1</td>\n",
       "      <td>0</td>\n",
       "      <td>0</td>\n",
       "      <td>0</td>\n",
       "      <td>0</td>\n",
       "      <td>Unavailable</td>\n",
       "      <td>-1</td>\n",
       "    </tr>\n",
       "  </tbody>\n",
       "</table>\n",
       "</div>"
      ],
      "text/plain": [
       "  Gender              ScheduledDay            AppointmentDay  Age  \\\n",
       "0      F 2016-04-29 18:38:08+00:00 2016-04-29 00:00:00+00:00   62   \n",
       "\n",
       "     Neighbourhood  Scholarship  Hypertension  Diabetes  Alcoholism  Handicap  \\\n",
       "0  JARDIM DA PENHA            0             1         0           0         0   \n",
       "\n",
       "   SMS_received Availability  waiting time days  \n",
       "0             0  Unavailable                 -1  "
      ]
     },
     "execution_count": 11,
     "metadata": {},
     "output_type": "execute_result"
    }
   ],
   "source": [
    "#rename the wrong spelled columns name\n",
    "df = df.rename(columns={'Hipertension':'Hypertension', 'Handcap':'Handicap'})\n",
    "df.head(1)"
   ]
  },
  {
   "cell_type": "code",
   "execution_count": 12,
   "id": "b0ed48d1",
   "metadata": {},
   "outputs": [],
   "source": [
    "#create a weekday column to analyse which days of the week patients are not always available\n",
    "df['weekDay'] = df['AppointmentDay'].apply(lambda x: x.weekday())\n",
    "days = {'weekDay':{0: 'Monday', 1: 'Tueday', 2: 'Wednesday', 3: 'Thursday', 4: 'Friday', 5: 'Saturday',6: 'Sunday'}}\n",
    "df.replace(days, inplace = True)"
   ]
  },
  {
   "cell_type": "code",
   "execution_count": 36,
   "id": "72f2c693",
   "metadata": {},
   "outputs": [
    {
     "data": {
      "text/html": [
       "<div>\n",
       "<style scoped>\n",
       "    .dataframe tbody tr th:only-of-type {\n",
       "        vertical-align: middle;\n",
       "    }\n",
       "\n",
       "    .dataframe tbody tr th {\n",
       "        vertical-align: top;\n",
       "    }\n",
       "\n",
       "    .dataframe thead th {\n",
       "        text-align: right;\n",
       "    }\n",
       "</style>\n",
       "<table border=\"1\" class=\"dataframe\">\n",
       "  <thead>\n",
       "    <tr style=\"text-align: right;\">\n",
       "      <th></th>\n",
       "      <th>Gender</th>\n",
       "      <th>ScheduledDay</th>\n",
       "      <th>AppointmentDay</th>\n",
       "      <th>Age</th>\n",
       "      <th>Neighbourhood</th>\n",
       "      <th>Scholarship</th>\n",
       "      <th>Hypertension</th>\n",
       "      <th>Diabetes</th>\n",
       "      <th>Alcoholism</th>\n",
       "      <th>Handicap</th>\n",
       "      <th>SMS_received</th>\n",
       "      <th>Availability</th>\n",
       "      <th>waiting time days</th>\n",
       "      <th>weekDay</th>\n",
       "      <th>Month</th>\n",
       "      <th>Hour</th>\n",
       "    </tr>\n",
       "  </thead>\n",
       "  <tbody>\n",
       "    <tr>\n",
       "      <th>0</th>\n",
       "      <td>F</td>\n",
       "      <td>2016-04-29 18:38:08+00:00</td>\n",
       "      <td>2016-04-29 18:38:08+00:00</td>\n",
       "      <td>62</td>\n",
       "      <td>JARDIM DA PENHA</td>\n",
       "      <td>0</td>\n",
       "      <td>1</td>\n",
       "      <td>0</td>\n",
       "      <td>0</td>\n",
       "      <td>0</td>\n",
       "      <td>0</td>\n",
       "      <td>Unavailable</td>\n",
       "      <td>0</td>\n",
       "      <td>Friday</td>\n",
       "      <td>April</td>\n",
       "      <td>18</td>\n",
       "    </tr>\n",
       "    <tr>\n",
       "      <th>1</th>\n",
       "      <td>M</td>\n",
       "      <td>2016-04-29 16:08:27+00:00</td>\n",
       "      <td>2016-04-29 16:08:27+00:00</td>\n",
       "      <td>56</td>\n",
       "      <td>JARDIM DA PENHA</td>\n",
       "      <td>0</td>\n",
       "      <td>0</td>\n",
       "      <td>0</td>\n",
       "      <td>0</td>\n",
       "      <td>0</td>\n",
       "      <td>0</td>\n",
       "      <td>Unavailable</td>\n",
       "      <td>0</td>\n",
       "      <td>Friday</td>\n",
       "      <td>April</td>\n",
       "      <td>16</td>\n",
       "    </tr>\n",
       "  </tbody>\n",
       "</table>\n",
       "</div>"
      ],
      "text/plain": [
       "  Gender              ScheduledDay            AppointmentDay  Age  \\\n",
       "0      F 2016-04-29 18:38:08+00:00 2016-04-29 18:38:08+00:00   62   \n",
       "1      M 2016-04-29 16:08:27+00:00 2016-04-29 16:08:27+00:00   56   \n",
       "\n",
       "     Neighbourhood  Scholarship  Hypertension  Diabetes  Alcoholism  Handicap  \\\n",
       "0  JARDIM DA PENHA            0             1         0           0         0   \n",
       "1  JARDIM DA PENHA            0             0         0           0         0   \n",
       "\n",
       "   SMS_received Availability  waiting time days weekDay  Month  Hour  \n",
       "0             0  Unavailable                  0  Friday  April    18  \n",
       "1             0  Unavailable                  0  Friday  April    16  "
      ]
     },
     "execution_count": 36,
     "metadata": {},
     "output_type": "execute_result"
    }
   ],
   "source": [
    "#create a month column to check which of the days the patient have an appointment\n",
    "df['Month'] = df['AppointmentDay'].dt.month_name()\n",
    "df['Hour'] = df['ScheduledDay'].dt.hour\n",
    "df.head(2)"
   ]
  },
  {
   "cell_type": "markdown",
   "id": "e36c31d9",
   "metadata": {},
   "source": [
    "# EXPLANATORY DATA ANALYSIS\n",
    "This is a stage where we analysis the data base on dependent and indepent variable\n",
    "Different graph such as pie chart, barchart and boxplot was used and in this stage to see which of the features influence the availablity of patient on thier Appointment date"
   ]
  },
  {
   "cell_type": "code",
   "execution_count": 37,
   "id": "c33dff1b",
   "metadata": {},
   "outputs": [
    {
     "data": {
      "text/html": [
       "<div>\n",
       "<style scoped>\n",
       "    .dataframe tbody tr th:only-of-type {\n",
       "        vertical-align: middle;\n",
       "    }\n",
       "\n",
       "    .dataframe tbody tr th {\n",
       "        vertical-align: top;\n",
       "    }\n",
       "\n",
       "    .dataframe thead th {\n",
       "        text-align: right;\n",
       "    }\n",
       "</style>\n",
       "<table border=\"1\" class=\"dataframe\">\n",
       "  <thead>\n",
       "    <tr style=\"text-align: right;\">\n",
       "      <th></th>\n",
       "      <th>Age</th>\n",
       "      <th>Scholarship</th>\n",
       "      <th>Hypertension</th>\n",
       "      <th>Diabetes</th>\n",
       "      <th>Alcoholism</th>\n",
       "      <th>Handicap</th>\n",
       "      <th>SMS_received</th>\n",
       "      <th>waiting time days</th>\n",
       "      <th>Hour</th>\n",
       "    </tr>\n",
       "  </thead>\n",
       "  <tbody>\n",
       "    <tr>\n",
       "      <th>count</th>\n",
       "      <td>110527.000000</td>\n",
       "      <td>110527.000000</td>\n",
       "      <td>110527.000000</td>\n",
       "      <td>110527.000000</td>\n",
       "      <td>110527.000000</td>\n",
       "      <td>110527.000000</td>\n",
       "      <td>110527.000000</td>\n",
       "      <td>110527.000000</td>\n",
       "      <td>110527.000000</td>\n",
       "    </tr>\n",
       "    <tr>\n",
       "      <th>mean</th>\n",
       "      <td>37.088874</td>\n",
       "      <td>0.098266</td>\n",
       "      <td>0.197246</td>\n",
       "      <td>0.071865</td>\n",
       "      <td>0.030400</td>\n",
       "      <td>0.022248</td>\n",
       "      <td>0.321026</td>\n",
       "      <td>9.532739</td>\n",
       "      <td>10.774517</td>\n",
       "    </tr>\n",
       "    <tr>\n",
       "      <th>std</th>\n",
       "      <td>23.110205</td>\n",
       "      <td>0.297675</td>\n",
       "      <td>0.397921</td>\n",
       "      <td>0.258265</td>\n",
       "      <td>0.171686</td>\n",
       "      <td>0.161543</td>\n",
       "      <td>0.466873</td>\n",
       "      <td>15.027729</td>\n",
       "      <td>3.216189</td>\n",
       "    </tr>\n",
       "    <tr>\n",
       "      <th>min</th>\n",
       "      <td>-1.000000</td>\n",
       "      <td>0.000000</td>\n",
       "      <td>0.000000</td>\n",
       "      <td>0.000000</td>\n",
       "      <td>0.000000</td>\n",
       "      <td>0.000000</td>\n",
       "      <td>0.000000</td>\n",
       "      <td>0.000000</td>\n",
       "      <td>6.000000</td>\n",
       "    </tr>\n",
       "    <tr>\n",
       "      <th>25%</th>\n",
       "      <td>18.000000</td>\n",
       "      <td>0.000000</td>\n",
       "      <td>0.000000</td>\n",
       "      <td>0.000000</td>\n",
       "      <td>0.000000</td>\n",
       "      <td>0.000000</td>\n",
       "      <td>0.000000</td>\n",
       "      <td>0.000000</td>\n",
       "      <td>8.000000</td>\n",
       "    </tr>\n",
       "    <tr>\n",
       "      <th>50%</th>\n",
       "      <td>37.000000</td>\n",
       "      <td>0.000000</td>\n",
       "      <td>0.000000</td>\n",
       "      <td>0.000000</td>\n",
       "      <td>0.000000</td>\n",
       "      <td>0.000000</td>\n",
       "      <td>0.000000</td>\n",
       "      <td>3.000000</td>\n",
       "      <td>10.000000</td>\n",
       "    </tr>\n",
       "    <tr>\n",
       "      <th>75%</th>\n",
       "      <td>55.000000</td>\n",
       "      <td>0.000000</td>\n",
       "      <td>0.000000</td>\n",
       "      <td>0.000000</td>\n",
       "      <td>0.000000</td>\n",
       "      <td>0.000000</td>\n",
       "      <td>1.000000</td>\n",
       "      <td>14.000000</td>\n",
       "      <td>13.000000</td>\n",
       "    </tr>\n",
       "    <tr>\n",
       "      <th>max</th>\n",
       "      <td>115.000000</td>\n",
       "      <td>1.000000</td>\n",
       "      <td>1.000000</td>\n",
       "      <td>1.000000</td>\n",
       "      <td>1.000000</td>\n",
       "      <td>4.000000</td>\n",
       "      <td>1.000000</td>\n",
       "      <td>178.000000</td>\n",
       "      <td>21.000000</td>\n",
       "    </tr>\n",
       "  </tbody>\n",
       "</table>\n",
       "</div>"
      ],
      "text/plain": [
       "                 Age    Scholarship   Hypertension       Diabetes  \\\n",
       "count  110527.000000  110527.000000  110527.000000  110527.000000   \n",
       "mean       37.088874       0.098266       0.197246       0.071865   \n",
       "std        23.110205       0.297675       0.397921       0.258265   \n",
       "min        -1.000000       0.000000       0.000000       0.000000   \n",
       "25%        18.000000       0.000000       0.000000       0.000000   \n",
       "50%        37.000000       0.000000       0.000000       0.000000   \n",
       "75%        55.000000       0.000000       0.000000       0.000000   \n",
       "max       115.000000       1.000000       1.000000       1.000000   \n",
       "\n",
       "          Alcoholism       Handicap   SMS_received  waiting time days  \\\n",
       "count  110527.000000  110527.000000  110527.000000      110527.000000   \n",
       "mean        0.030400       0.022248       0.321026           9.532739   \n",
       "std         0.171686       0.161543       0.466873          15.027729   \n",
       "min         0.000000       0.000000       0.000000           0.000000   \n",
       "25%         0.000000       0.000000       0.000000           0.000000   \n",
       "50%         0.000000       0.000000       0.000000           3.000000   \n",
       "75%         0.000000       0.000000       1.000000          14.000000   \n",
       "max         1.000000       4.000000       1.000000         178.000000   \n",
       "\n",
       "                Hour  \n",
       "count  110527.000000  \n",
       "mean       10.774517  \n",
       "std         3.216189  \n",
       "min         6.000000  \n",
       "25%         8.000000  \n",
       "50%        10.000000  \n",
       "75%        13.000000  \n",
       "max        21.000000  "
      ]
     },
     "execution_count": 37,
     "metadata": {},
     "output_type": "execute_result"
    }
   ],
   "source": [
    "#let get the idea of how the data is distribution\n",
    "df.describe()\n",
    "\n",
    "#we have the highest age to be 115 & "
   ]
  },
  {
   "cell_type": "code",
   "execution_count": 38,
   "id": "c6ccd656",
   "metadata": {},
   "outputs": [
    {
     "data": {
      "text/plain": [
       "<AxesSubplot:title={'center':'Gender Check'}, ylabel='None'>"
      ]
     },
     "execution_count": 38,
     "metadata": {},
     "output_type": "execute_result"
    },
    {
     "data": {
      "image/png": "[encoded data removed]",
      "text/plain": [
       "<Figure size 432x288 with 1 Axes>"
      ]
     },
     "metadata": {},
     "output_type": "display_data"
    }
   ],
   "source": [
    "#check gender population of the patients\n",
    "df.groupby('Gender').size().plot(kind = 'pie',autopct = '%.2f%%', title = 'Gender Check', colors = ['red', 'yellow'])\n"
   ]
  },
  {
   "cell_type": "markdown",
   "id": "24cb356a",
   "metadata": {},
   "source": [
    "Lets makes use of pie chart because it visualized well in terms of proportionality\n",
    "#It is clearly shows that the distribution have higher numbers of female patients compare to thier male counterpart, It is also infers that females visit hospitals more that males which may makes the analysis favoured female than male"
   ]
  },
  {
   "cell_type": "code",
   "execution_count": 17,
   "id": "d95bbedc",
   "metadata": {},
   "outputs": [
    {
     "data": {
      "text/plain": [
       "<AxesSubplot:title={'center':'Attendance Check'}, ylabel='None'>"
      ]
     },
     "execution_count": 17,
     "metadata": {},
     "output_type": "execute_result"
    },
    {
     "data": {
      "image/png": "[encoded data removed]",
      "text/plain": [
       "<Figure size 432x288 with 1 Axes>"
      ]
     },
     "metadata": {},
     "output_type": "display_data"
    }
   ],
   "source": [
    "#check percentage of patients that Available compared to Unavailable\n",
    "df.groupby(['Availability']).size().plot(kind = 'pie',y = 'Gender', title = 'Attendance Check',autopct = ' %.2f%%', colors = ['red', 'yellow'])\n",
    "\n"
   ]
  },
  {
   "cell_type": "markdown",
   "id": "1809dac0",
   "metadata": {},
   "source": [
    "#we can as well see that the percentage of patients that are unavailable is higher than those available which indicates that almost 80% of patients will not be available on thier appointment date"
   ]
  },
  {
   "cell_type": "code",
   "execution_count": 18,
   "id": "56032551",
   "metadata": {},
   "outputs": [
    {
     "data": {
      "text/plain": [
       "Text(0.5, 1.0, 'Age Distribution')"
      ]
     },
     "execution_count": 18,
     "metadata": {},
     "output_type": "execute_result"
    },
    {
     "data": {
      "image/png": "[encoded data removed]",
      "text/plain": [
       "<Figure size 360x288 with 1 Axes>"
      ]
     },
     "metadata": {
      "needs_background": "light"
     },
     "output_type": "display_data"
    }
   ],
   "source": [
    "#check the age distribution of the dataset\n",
    "age = df['Age']\n",
    "fig = plt.figure(figsize = (5,4))\n",
    "plt.boxplot(age)\n",
    "plt.title('Age Distribution')\n",
    "\n"
   ]
  },
  {
   "cell_type": "markdown",
   "id": "16466977",
   "metadata": {},
   "source": [
    "Lets see how varies is the Age distribution, A box plot handles this better.\n",
    "This means that 50% of patient are younger than 37 and 50% are older than 37\n",
    "The upper quartile value is around 55 while the lower qartile is around 18 and from the plot it can also be concluded that 50% of the patients are between the ages of 18 & 55\n",
    "you can as well see that we have greatest value which is 102 & the lowest which is 0 which is obtainable since we can have children which is 3 months old and so\n",
    "An outlier was also notice which is 115, therefore our boxplot is positively screw\n",
    "you can see we have the median age to be around 37yrs while the most is 115yrs"
   ]
  },
  {
   "cell_type": "code",
   "execution_count": 76,
   "id": "d6666a1e",
   "metadata": {},
   "outputs": [
    {
     "data": {
      "text/plain": [
       "{'whiskers': [<matplotlib.lines.Line2D at 0x2ae30679a30>,\n",
       "  <matplotlib.lines.Line2D at 0x2ae30679dc0>],\n",
       " 'caps': [<matplotlib.lines.Line2D at 0x2ae30687190>,\n",
       "  <matplotlib.lines.Line2D at 0x2ae30687520>],\n",
       " 'boxes': [<matplotlib.lines.Line2D at 0x2ae306796a0>],\n",
       " 'medians': [<matplotlib.lines.Line2D at 0x2ae306878b0>],\n",
       " 'fliers': [<matplotlib.lines.Line2D at 0x2ae30687c40>],\n",
       " 'means': []}"
      ]
     },
     "execution_count": 76,
     "metadata": {},
     "output_type": "execute_result"
    },
    {
     "data": {
      "image/png": "[encoded data removed]",
      "text/plain": [
       "<Figure size 288x216 with 1 Axes>"
      ]
     },
     "metadata": {
      "needs_background": "light"
     },
     "output_type": "display_data"
    }
   ],
   "source": [
    "#check the patient that Available distribution\n",
    "pre = df['Availability'] == 'Available'\n",
    "df_pre = df[pre]\n",
    "fig = plt.figure(figsize = (4,3))\n",
    "x1 = df_pre.Age.values\n",
    "plt.title('Available Distribution')\n",
    "plt.boxplot(x1)"
   ]
  },
  {
   "cell_type": "markdown",
   "id": "7d9078d4",
   "metadata": {},
   "source": [
    "Lets see how varies is the Availabil in the distribution, A box plot handles this better.\n",
    "This means that 50% of available patient are younger than 37 and 50% are older than 37\n",
    "The upper quartile value is around 55 while the lower qartile is around 18 and from the plot it can also beconcluded that 50% of the patients are between the ages of 18 & 55\n",
    "An outlier was also notice which is 115, therefore our boxplot is positively screw"
   ]
  },
  {
   "cell_type": "code",
   "execution_count": 82,
   "id": "adba0170",
   "metadata": {},
   "outputs": [
    {
     "data": {
      "text/plain": [
       "Text(0.5, 1.0, 'Unavailable')"
      ]
     },
     "execution_count": 82,
     "metadata": {},
     "output_type": "execute_result"
    },
    {
     "data": {
      "image/png": "[encoded data removed]",
      "text/plain": [
       "<Figure size 288x216 with 1 Axes>"
      ]
     },
     "metadata": {
      "needs_background": "light"
     },
     "output_type": "display_data"
    }
   ],
   "source": [
    "#check the patient that are Unavailable distribution\n",
    "abse = df['Availability'] == 'Unavailable'\n",
    "df_abs = df[abse]\n",
    "x22 = df_abs.Age.values\n",
    "fig = plt.figure(figsize = (4,3))\n",
    "plt.boxplot(x22)\n",
    "plt.title('Unavailable')"
   ]
  },
  {
   "cell_type": "markdown",
   "id": "29c874dd",
   "metadata": {},
   "source": [
    "Lets see how varies is the  distribution, A box plot handles this better.\n",
    "This means that 50% of Unavailable patient are younger than 37 and 50% are older than 37\n",
    "The interquartile value is between the ranges of age 18 & 55 \n",
    "therefore our boxplot is positively screw"
   ]
  },
  {
   "cell_type": "code",
   "execution_count": 21,
   "id": "24c209d4",
   "metadata": {},
   "outputs": [
    {
     "data": {
      "text/plain": [
       "{'whiskers': [<matplotlib.lines.Line2D at 0x2ae30910880>,\n",
       "  <matplotlib.lines.Line2D at 0x2ae30910c10>],\n",
       " 'caps': [<matplotlib.lines.Line2D at 0x2ae30910fa0>,\n",
       "  <matplotlib.lines.Line2D at 0x2ae3091a370>],\n",
       " 'boxes': [<matplotlib.lines.Line2D at 0x2ae309104f0>],\n",
       " 'medians': [<matplotlib.lines.Line2D at 0x2ae3091a700>],\n",
       " 'fliers': [<matplotlib.lines.Line2D at 0x2ae3091aa90>],\n",
       " 'means': []}"
      ]
     },
     "execution_count": 21,
     "metadata": {},
     "output_type": "execute_result"
    },
    {
     "data": {
      "image/png": "[encoded data removed]",
      "text/plain": [
       "<Figure size 216x288 with 1 Axes>"
      ]
     },
     "metadata": {
      "needs_background": "light"
     },
     "output_type": "display_data"
    }
   ],
   "source": [
    "#check gender distribution base on age\n",
    "fmale = df['Gender'] == 'F'\n",
    "mmale = df['Gender'] == 'M'\n",
    "\n",
    "df_fmale = df[fmale]\n",
    "df_mmale = df[mmale]\n",
    "\n",
    "x3 = df_fmale.Age.values\n",
    "x4 = df_mmale.Age.values\n",
    "fig = plt.figure(figsize = (3,4))\n",
    "plt.title('FEMALE DISTRIBUTION')\n",
    "plt.boxplot(x3)"
   ]
  },
  {
   "cell_type": "markdown",
   "id": "84cf1ae9",
   "metadata": {},
   "source": [
    "Lets see how varies is the  distribution, A box plot handles this better.\n",
    "This means that 50% of female patients are younger than 38 and 50% are older than 38\n",
    "The upper quartile value is around 55 while the lower qartile is around 22 and from the plot it can also be concluded that 50% of the female patients are between the ages of 22 & 55\n",
    "An outlier was also notice which is 115, therefore our boxplot is positively s"
   ]
  },
  {
   "cell_type": "code",
   "execution_count": 22,
   "id": "c2f4eacd",
   "metadata": {},
   "outputs": [
    {
     "data": {
      "text/plain": [
       "{'whiskers': [<matplotlib.lines.Line2D at 0x2ae3097e100>,\n",
       "  <matplotlib.lines.Line2D at 0x2ae3097e490>],\n",
       " 'caps': [<matplotlib.lines.Line2D at 0x2ae3097e820>,\n",
       "  <matplotlib.lines.Line2D at 0x2ae3097ebb0>],\n",
       " 'boxes': [<matplotlib.lines.Line2D at 0x2ae3096ed30>],\n",
       " 'medians': [<matplotlib.lines.Line2D at 0x2ae3097ef40>],\n",
       " 'fliers': [<matplotlib.lines.Line2D at 0x2ae36678310>],\n",
       " 'means': []}"
      ]
     },
     "execution_count": 22,
     "metadata": {},
     "output_type": "execute_result"
    },
    {
     "data": {
      "image/png": "[encoded data removed]",
      "text/plain": [
       "<Figure size 432x288 with 1 Axes>"
      ]
     },
     "metadata": {
      "needs_background": "light"
     },
     "output_type": "display_data"
    }
   ],
   "source": [
    "plt.title('MALE DISTRIBUTION')\n",
    "plt.boxplot(x4)"
   ]
  },
  {
   "cell_type": "markdown",
   "id": "ba10a972",
   "metadata": {},
   "source": [
    "Lets see how varies is the  distribution, A box plot handles this better.\n",
    "This means that 50% of male patient are younger than 32 and 50% are older than 32\n",
    "The upper quartile value is around 55 while the lower qartile is around 18 and from the plot it can also be concluded that 50% of the male patients are between the ages of 18 & 55\n",
    "you can as well see that we have greatest value which is 98 and no outlier as the case may be"
   ]
  },
  {
   "cell_type": "code",
   "execution_count": 74,
   "id": "a27fbdf2",
   "metadata": {},
   "outputs": [
    {
     "data": {
      "text/plain": [
       "Text(0.5, 1.0, 'Number of patients that available on week days')"
      ]
     },
     "execution_count": 74,
     "metadata": {},
     "output_type": "execute_result"
    },
    {
     "data": {
      "image/png": "[encoded data removed]",
      "text/plain": [
       "<Figure size 720x288 with 1 Axes>"
      ]
     },
     "metadata": {
      "needs_background": "light"
     },
     "output_type": "display_data"
    }
   ],
   "source": [
    "#checking the frquency of patient that Availability base on days\n",
    "x1 = df_pre['weekDay'].value_counts().index\n",
    "y = df_pre['weekDay'].value_counts().values \n",
    "fig = plt.figure(figsize = (10,4))\n",
    "plt.bar(x = x1, height = y, color = 'blue')\n",
    "plt.title('Number of patients that available on week days')\n"
   ]
  },
  {
   "cell_type": "markdown",
   "id": "b36a67d6",
   "metadata": {},
   "source": [
    "Lets look at which days patients do make themselves available\n",
    "#it can be concluded that patients do makes themselves available on TUESDAY AND WEDNESSDAY compared to ther days"
   ]
  },
  {
   "cell_type": "code",
   "execution_count": 24,
   "id": "556bda3e",
   "metadata": {},
   "outputs": [
    {
     "data": {
      "image/png": "[encoded data removed]",
      "text/plain": [
       "<Figure size 432x288 with 1 Axes>"
      ]
     },
     "metadata": {
      "needs_background": "light"
     },
     "output_type": "display_data"
    }
   ],
   "source": [
    "#checking the Availability(Available/Unavailable) using gender\n",
    "ax = sns.countplot( x = 'Gender', hue = 'Availability' ,data = df)\n",
    "\n",
    "#IT CAN BE CONCLUDED THAT FEMALE PATIENTS MOST UNAVAILABLE COMPARED TO THEIR MALE CONTERPART"
   ]
  },
  {
   "cell_type": "markdown",
   "id": "ebe6a56f",
   "metadata": {},
   "source": [
    "Barplot is been used because it gives us room to compare values across group\n",
    "lets try and check those patients that are available and unavailable using gender\n",
    "The both gender have highest unavailability which shows the gender variable did not influence our analysis"
   ]
  },
  {
   "cell_type": "code",
   "execution_count": 25,
   "id": "fc7e9fc4",
   "metadata": {},
   "outputs": [
    {
     "data": {
      "image/png": "[encoded data removed]",
      "text/plain": [
       "<Figure size 432x288 with 1 Axes>"
      ]
     },
     "metadata": {
      "needs_background": "light"
     },
     "output_type": "display_data"
    }
   ],
   "source": [
    "#check if Availability(Available/Unavailable) base on Diabetes sickness\n",
    "ax = sns.countplot(x = 'Diabetes', hue = 'Availability', data = df)"
   ]
  },
  {
   "cell_type": "markdown",
   "id": "e6936641",
   "metadata": {},
   "source": [
    "Does patient with diabeties affect our availability analysis??\n",
    "Oh no! 80% of people with no diabeties are not always available, so it does not have influence on our Availability"
   ]
  },
  {
   "cell_type": "code",
   "execution_count": 68,
   "id": "878f5d89",
   "metadata": {},
   "outputs": [
    {
     "data": {
      "image/png": "[encoded data removed]",
      "text/plain": [
       "<Figure size 432x288 with 1 Axes>"
      ]
     },
     "metadata": {
      "needs_background": "light"
     },
     "output_type": "display_data"
    }
   ],
   "source": [
    "##check if  Availability(Available/Unavailable) base on Scholarship\n",
    "plt.title('SCHOLARSHIP & AVAILABILITY')\n",
    "ax = sns.countplot(x = 'Scholarship', hue = 'Availability', data = df)"
   ]
  },
  {
   "cell_type": "code",
   "execution_count": null,
   "id": "ac87eb87",
   "metadata": {},
   "outputs": [],
   "source": [
    "Does patient with scholarship our availability analysis??\n",
    "Oh no! 80% of patients with no schorlarship are not always available, so it does not have influence on our Availability"
   ]
  },
  {
   "cell_type": "code",
   "execution_count": 69,
   "id": "edba2802",
   "metadata": {},
   "outputs": [
    {
     "data": {
      "image/png": "[encoded data removed]",
      "text/plain": [
       "<Figure size 432x288 with 1 Axes>"
      ]
     },
     "metadata": {
      "needs_background": "light"
     },
     "output_type": "display_data"
    }
   ],
   "source": [
    "plt.title('RELATIONSHIP BETWEEN ALCOHOLISM & AVAILABILITY')\n",
    "ax = sns.countplot(x = 'Alcoholism', hue = 'Availability', data = df)\n"
   ]
  },
  {
   "cell_type": "markdown",
   "id": "85bf830f",
   "metadata": {},
   "source": [
    "Alcoholism did not influence our Avaialable analysis as almost 90% of patients that dont drink were unavailabe and patients that take Alc0hol are not much"
   ]
  },
  {
   "cell_type": "code",
   "execution_count": 70,
   "id": "99e8fadd",
   "metadata": {},
   "outputs": [
    {
     "data": {
      "image/png": "[encoded data removed]",
      "text/plain": [
       "<Figure size 432x288 with 1 Axes>"
      ]
     },
     "metadata": {
      "needs_background": "light"
     },
     "output_type": "display_data"
    }
   ],
   "source": [
    "plt.title('SMS_RECIEVED & AVAILABILITY')\n",
    "ax = sns.countplot(x = 'SMS_received', hue = 'Availability', data = df)\n",
    "#SENDING SMS IS OF EQUAL IMPORTANCE TO INCREASE THE NUMBER OF AVAILABILITY"
   ]
  },
  {
   "cell_type": "markdown",
   "id": "71ce7185",
   "metadata": {},
   "source": [
    "Does those that recieve SMS makes themselves available?\n",
    "This chart clearly show to us 60% of those that did not recieved SMS were unavailable which i considered that if more mesages were sent, \n",
    "Number of people that will be available will increase."
   ]
  },
  {
   "cell_type": "code",
   "execution_count": 75,
   "id": "0bf5b664",
   "metadata": {},
   "outputs": [
    {
     "data": {
      "text/plain": [
       "Text(0, 0.5, 'Mean Age')"
      ]
     },
     "execution_count": 75,
     "metadata": {},
     "output_type": "execute_result"
    },
    {
     "data": {
      "image/png": "[encoded data removed]",
      "text/plain": [
       "<Figure size 432x288 with 1 Axes>"
      ]
     },
     "metadata": {
      "needs_background": "light"
     },
     "output_type": "display_data"
    }
   ],
   "source": [
    "#Check 'Relationship between Age & Availability'\n",
    "plt.title('Relationship between Age & Availability')\n",
    "ax = sns.barplot(y= 'Age', x = 'Availability' , data = df)\n",
    "plt.xlabel('Availability')\n",
    "plt.ylabel('Mean Age')\n"
   ]
  },
  {
   "cell_type": "markdown",
   "id": "d071f3f1",
   "metadata": {},
   "source": [
    "Younger patients tends to make themselseves available compared to Older Patients as older patients "
   ]
  },
  {
   "cell_type": "markdown",
   "id": "e7bffef3",
   "metadata": {},
   "source": [
    "# CONCLUSION"
   ]
  },
  {
   "cell_type": "markdown",
   "id": "5760ab72",
   "metadata": {},
   "source": [
    "Judging from all these analyse, the following points was deduced\n",
    "It is of importance to know that females fall sick than males with 65% dominated compared to males\n",
    "Sending SMS will surely improve number of patients that will be available as it influence unavailability.\n",
    "Giving out scholarship will also not influence patients availability.\n",
    "It is also concluded that any patient who has appointment on saturday will be unavailabe, saturday hight have influence in the Availability\n",
    "Older patients above 70 year will also unavailable as they influence our unavailabe."
   ]
  },
  {
   "cell_type": "markdown",
   "id": "920ecfaf",
   "metadata": {},
   "source": [
    "# LIMITATION"
   ]
  },
  {
   "cell_type": "markdown",
   "id": "ab08095b",
   "metadata": {},
   "source": [
    "In our analysis, you can see that it is females that dominated the distribution i.e 2/3, so it is very difficult make a better decision using gender."
   ]
  }
 ],
 "metadata": {
  "kernelspec": {
   "display_name": "Python 3 (ipykernel)",
   "language": "python",
   "name": "python3"
  },
  "language_info": {
   "codemirror_mode": {
    "name": "ipython",
    "version": 3
   },
   "file_extension": ".py",
   "mimetype": "text/x-python",
   "name": "python",
   "nbconvert_exporter": "python",
   "pygments_lexer": "ipython3",
   "version": "3.9.5"
  }
 },
 "nbformat": 4,
 "nbformat_minor": 5
}
